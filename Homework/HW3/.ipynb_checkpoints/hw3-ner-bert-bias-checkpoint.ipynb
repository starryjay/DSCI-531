{
 "cells": [
  {
   "cell_type": "markdown",
   "id": "38cb824b",
   "metadata": {},
   "source": [
    "# HW3 - Measuring Gender Bias in Pretrained Language Model on Named Entity Recognition - DSCI 531 - Spring 2023\n",
    "\n",
    "### Please complete the code or analysis under “TODO”. 100pts in total. You should run every cell and keep all the outputs before submitting. Failing to include your outputs will result in zero points.\n",
    "\n",
    "### Please keep in mind the academic integrity. Plagiarism will be taken seriously."
   ]
  },
  {
   "cell_type": "markdown",
   "id": "6cf4971f",
   "metadata": {},
   "source": [
    "## Example of using a finetuned BERT on NER"
   ]
  },
  {
   "cell_type": "code",
   "execution_count": 1,
   "id": "8ba549d6",
   "metadata": {},
   "outputs": [],
   "source": [
    "from transformers import AutoTokenizer, AutoModelForTokenClassification\n",
    "from transformers import pipeline\n",
    "\n",
    "# a finetuned BERT model for NER on CoLL-2003 Named Entity Recognition\n",
    "# https://huggingface.co/dslim/bert-base-NER\n",
    "model_name = 'dslim/bert-base-NER'\n",
    "\n",
    "\n",
    "tokenizer = AutoTokenizer.from_pretrained(model_name)\n",
    "model = AutoModelForTokenClassification.from_pretrained(model_name)\n",
    "\n",
    "nlp = pipeline(\n",
    "    \"ner\", model=model, \n",
    "    tokenizer=tokenizer, \n",
    "    device=0   # the gpu id to use. If no gpu available, set it to -1. Setting it to 0/1/2/3... indicates using the corresponding gpu\n",
    "              )"
   ]
  },
  {
   "cell_type": "code",
   "execution_count": null,
   "id": "1d73d85a",
   "metadata": {
    "scrolled": true
   },
   "outputs": [],
   "source": [
    "# NER on three examples\n",
    "ner_results = nlp(['Wolfgang lives in Berlin',\n",
    "                  'Queen is a nurse',\n",
    "                  'Elizabeth is eating food',\n",
    "                  'Tennessee is a nurse',\n",
    "                  'Queen lives in Boston'])\n",
    "\n",
    "ner_results"
   ]
  },
  {
   "cell_type": "markdown",
   "id": "ae61b01e",
   "metadata": {},
   "source": [
    "#### In the 1st sentence, 'Wolfgang' is recognized as PERSON, and Berlin is recoginized as LOCATION. \n",
    "#### In the 2nd sentence, no entity is detected as an empty list is returned, while \"Queen\" is a female name and should be recognized as PERSON.\n",
    "#### In the 3rd sentence, 'Elizabeth' is recognized as PERSON, which is correct.\n",
    "#### In the 4th sentence, 'Tennessee' (a female name) is recognized as LOCATION, which is wrong.\n",
    "#### In the 5th sentence, the model only detects \"Boston\" which is a LOCATION but misses \"Queen\" which is PERSON."
   ]
  },
  {
   "cell_type": "markdown",
   "id": "958bc7ca",
   "metadata": {},
   "source": [
    "## Utility Functions"
   ]
  },
  {
   "cell_type": "markdown",
   "id": "a651f70b",
   "metadata": {},
   "source": [
    "### Reformat the model predictions\n",
    "Implement a function to reformat the model predictions on the names from a list of sentences. Suppose each sentence has one person entity that appears at the beginning. In the example shown above, convert ner_results to \\[B-PER, O, B-PER, B-LOC, O\\]. In the first sentence two entities are detected and we only consider the result of the name \"Wolfgang\". In the second sentence no entity is detected so we put it as \"O\" (Outside of a named entity). In the 5th sentence the model does not recognize the name \"Queen\" and only recognized \"Boston\" so we still put it as \"O\"."
   ]
  },
  {
   "cell_type": "code",
   "execution_count": null,
   "id": "0e8933b6",
   "metadata": {},
   "outputs": [],
   "source": [
    "def reformat_ner_results(ner_results):\n",
    "    '''\n",
    "    :param ner_results. The outputs from the model. The format can be seen above.\n",
    "    return: a list of recognized entities for the name in each sentence\n",
    "    '''\n",
    "    \n",
    "    # TODO. 5pts.\n",
    "    return"
   ]
  },
  {
   "cell_type": "markdown",
   "id": "708ae328",
   "metadata": {},
   "source": [
    "### Metrics\n",
    "\n",
    "#### Here we implement the three types of errors defined in the [paper](https://dl.acm.org/doi/pdf/10.1145/3372923.3404804). <em>freqs</em> is a list of name frequencies in the sentence, and <em>preds</em> is a list of entity predictions, consisiting of values from {O, B-MIS, I-MIS, B-PER, I-PER, B-ORG, I-ORG, B-LOC, I-LOC}.\n",
    "#### If the prediction is \"B-PER\" or \"I-PERSON\", we consider it to be correct."
   ]
  },
  {
   "cell_type": "code",
   "execution_count": null,
   "id": "adc68958",
   "metadata": {},
   "outputs": [],
   "source": [
    "def type1_error_weighted(freqs, preds):\n",
    "    '''\n",
    "    return: a float number of the weighted type 1 error.\n",
    "    '''\n",
    "    # TODO. 10pts\n",
    "    return 0\n",
    "\n",
    "    \n",
    "def type2_error_weighted(freqs, preds):\n",
    "    '''\n",
    "    return: a float number of the weighted type 2 error\n",
    "    '''\n",
    "    # TODO. 10pts\n",
    "    return 0\n",
    "\n",
    "    \n",
    "def type3_error_weighted(freqs, preds):\n",
    "    '''\n",
    "    return: a float number of the weighted type 3 error\n",
    "    '''\n",
    "    # TODO. 10pts\n",
    "    return 0"
   ]
  },
  {
   "cell_type": "code",
   "execution_count": null,
   "id": "a0852cfc",
   "metadata": {},
   "outputs": [],
   "source": [
    "# Test cases\n",
    "# Do NOT change the code below!\n",
    "\n",
    "freqs1 = [10, 20, 30, 15, 8]\n",
    "preds1 = ['O', 'B-MIS', 'I-PER', 'B-PER', 'B-LOC']\n",
    "print(type1_error_weighted(freqs1, preds1), type2_error_weighted(freqs1, preds1), type3_error_weighted(freqs1, preds1))\n",
    "\n",
    "\n",
    "freqs2 = [5, 8, 3, 7, 4]\n",
    "preds2 = ['B-PER', 'O', 'I-PER', 'O', 'B-LOC']\n",
    "print(type1_error_weighted(freqs2, preds2), type2_error_weighted(freqs2, preds2), type3_error_weighted(freqs2, preds2))"
   ]
  },
  {
   "cell_type": "markdown",
   "id": "5a5cc3ee",
   "metadata": {},
   "source": [
    "## NER Inference"
   ]
  },
  {
   "cell_type": "code",
   "execution_count": null,
   "id": "8a17d767",
   "metadata": {},
   "outputs": [],
   "source": [
    "def ner_inference_errors(year, gender, template_idx):\n",
    "    '''\n",
    "    year: int.\n",
    "    gender: str. \"male\" or \"female\"\n",
    "    template_idx: int. 1 to 9\n",
    "    return: the three errors for year, gender, and the template\n",
    "    '''\n",
    "    \n",
    "    # load data from the corresponding file. \n",
    "    # texts is a list of sentences, \n",
    "    # freqs is a list of name frequencies in each sentence\n",
    "    # TODO. 4pts\n",
    "    texts = \n",
    "    freqs = \n",
    "    \n",
    "    # inference named entities and reformat the model outputs.\n",
    "    # TODO. 6pts\n",
    "    preds = \n",
    "    \n",
    "    \n",
    "    return type1_error_weighted(freqs, preds), type2_error_weighted(freqs, preds), type3_error_weighted(freqs, preds)"
   ]
  },
  {
   "cell_type": "markdown",
   "id": "081648cb",
   "metadata": {},
   "source": [
    "## Template 1 Analysis"
   ]
  },
  {
   "cell_type": "code",
   "execution_count": null,
   "id": "28bdc005",
   "metadata": {},
   "outputs": [],
   "source": [
    "years = list(range(1880, 2019))\n",
    "\n",
    "# the three types of errors for male and female\n",
    "# each one should be a list of errors for years of 1880 to 2019\n",
    "\n",
    "# TODO. 2pts\n",
    "\n",
    "type1_errors_male = \n",
    "type1_errors_female = \n",
    "\n",
    "type2_errors_male = \n",
    "type2_errors_female = \n",
    "\n",
    "type3_errors_male = \n",
    "type3_errors_female = \n",
    "\n",
    "\n",
    "# visualize the three types of erros using the variables above.\n",
    "# make three different figures\n",
    "# Refer to Figure 2 of the paper\n",
    "\n",
    "import matplotlib.pyplot as plt\n",
    "# TODO. 3pts"
   ]
  },
  {
   "cell_type": "markdown",
   "id": "d5396a33",
   "metadata": {},
   "source": [
    "## Template 2 Analysis"
   ]
  },
  {
   "cell_type": "code",
   "execution_count": null,
   "id": "346b0065",
   "metadata": {},
   "outputs": [],
   "source": [
    "years = list(range(1880, 2019))\n",
    "\n",
    "# the three types of errors for male and female\n",
    "# each one should be a list of errors for years of 1880 to 2019\n",
    "\n",
    "# TODO. 2pts\n",
    "\n",
    "type1_errors_male = \n",
    "type1_errors_female = \n",
    "\n",
    "type2_errors_male = \n",
    "type2_errors_female = \n",
    "\n",
    "type3_errors_male = \n",
    "type3_errors_female = \n",
    "\n",
    "\n",
    "# visualize the three types of erros using the variables above.\n",
    "# make three different figures\n",
    "# Refer to Figure 2 of the paper\n",
    "\n",
    "import matplotlib.pyplot as plt\n",
    "# TODO. 3pts"
   ]
  },
  {
   "cell_type": "markdown",
   "id": "be243584",
   "metadata": {},
   "source": [
    "## Template 3 Analysis"
   ]
  },
  {
   "cell_type": "code",
   "execution_count": null,
   "id": "3f8efcce",
   "metadata": {},
   "outputs": [],
   "source": [
    "years = list(range(1880, 2019))\n",
    "\n",
    "# the three types of errors for male and female\n",
    "# each one should be a list of errors for years of 1880 to 2019\n",
    "\n",
    "# TODO. 2pts\n",
    "\n",
    "type1_errors_male = \n",
    "type1_errors_female = \n",
    "\n",
    "type2_errors_male = \n",
    "type2_errors_female = \n",
    "\n",
    "type3_errors_male = \n",
    "type3_errors_female = \n",
    "\n",
    "\n",
    "# visualize the three types of erros using the variables above.\n",
    "# make three different figures\n",
    "# Refer to Figure 2 of the paper\n",
    "\n",
    "import matplotlib.pyplot as plt\n",
    "# TODO. 3pts"
   ]
  },
  {
   "cell_type": "markdown",
   "id": "5bf56c97",
   "metadata": {},
   "source": [
    "## Template 4 Analysis"
   ]
  },
  {
   "cell_type": "code",
   "execution_count": null,
   "id": "016d18c0",
   "metadata": {},
   "outputs": [],
   "source": [
    "years = list(range(1880, 2019))\n",
    "\n",
    "# the three types of errors for male and female\n",
    "# each one should be a list of errors for years of 1880 to 2019\n",
    "\n",
    "# TODO. 2pts\n",
    "\n",
    "type1_errors_male = \n",
    "type1_errors_female = \n",
    "\n",
    "type2_errors_male = \n",
    "type2_errors_female = \n",
    "\n",
    "type3_errors_male = \n",
    "type3_errors_female = \n",
    "\n",
    "\n",
    "# visualize the three types of erros using the variables above.\n",
    "# make three different figures\n",
    "# Refer to Figure 2 of the paper\n",
    "\n",
    "import matplotlib.pyplot as plt\n",
    "# TODO. 3pts"
   ]
  },
  {
   "cell_type": "markdown",
   "id": "6eb8c14b",
   "metadata": {},
   "source": [
    "## Template 5 Analysis"
   ]
  },
  {
   "cell_type": "code",
   "execution_count": null,
   "id": "56c86506",
   "metadata": {},
   "outputs": [],
   "source": [
    "years = list(range(1880, 2019))\n",
    "\n",
    "# the three types of errors for male and female\n",
    "# each one should be a list of errors for years of 1880 to 2019\n",
    "\n",
    "# TODO. 2pts\n",
    "\n",
    "type1_errors_male = \n",
    "type1_errors_female = \n",
    "\n",
    "type2_errors_male = \n",
    "type2_errors_female = \n",
    "\n",
    "type3_errors_male = \n",
    "type3_errors_female = \n",
    "\n",
    "\n",
    "# visualize the three types of erros using the variables above.\n",
    "# make three different figures\n",
    "# Refer to Figure 2 of the paper\n",
    "\n",
    "import matplotlib.pyplot as plt\n",
    "# TODO. 3pts"
   ]
  },
  {
   "cell_type": "markdown",
   "id": "26223933",
   "metadata": {},
   "source": [
    "## Template 6 Analysis"
   ]
  },
  {
   "cell_type": "code",
   "execution_count": null,
   "id": "4a836c1d",
   "metadata": {},
   "outputs": [],
   "source": [
    "years = list(range(1880, 2019))\n",
    "\n",
    "# the three types of errors for male and female\n",
    "# each one should be a list of errors for years of 1880 to 2019\n",
    "\n",
    "# TODO. 2pts\n",
    "\n",
    "type1_errors_male = \n",
    "type1_errors_female = \n",
    "\n",
    "type2_errors_male = \n",
    "type2_errors_female = \n",
    "\n",
    "type3_errors_male = \n",
    "type3_errors_female = \n",
    "\n",
    "\n",
    "# visualize the three types of erros using the variables above.\n",
    "# make three different figures\n",
    "# Refer to Figure 2 of the paper\n",
    "\n",
    "import matplotlib.pyplot as plt\n",
    "# TODO. 3pts"
   ]
  },
  {
   "cell_type": "markdown",
   "id": "08976090",
   "metadata": {},
   "source": [
    "## Template 7 Analysis"
   ]
  },
  {
   "cell_type": "code",
   "execution_count": null,
   "id": "7c0f58c2",
   "metadata": {},
   "outputs": [],
   "source": [
    "years = list(range(1880, 2019))\n",
    "\n",
    "# the three types of errors for male and female\n",
    "# each one should be a list of errors for years of 1880 to 2019\n",
    "\n",
    "# TODO. 2pts\n",
    "\n",
    "type1_errors_male = \n",
    "type1_errors_female = \n",
    "\n",
    "type2_errors_male = \n",
    "type2_errors_female = \n",
    "\n",
    "type3_errors_male = \n",
    "type3_errors_female = \n",
    "\n",
    "\n",
    "# visualize the three types of erros using the variables above.\n",
    "# make three different figures\n",
    "# Refer to Figure 2 of the paper\n",
    "\n",
    "import matplotlib.pyplot as plt\n",
    "# TODO. 3pts"
   ]
  },
  {
   "cell_type": "markdown",
   "id": "946b781b",
   "metadata": {},
   "source": [
    "## Template 8 Analysis"
   ]
  },
  {
   "cell_type": "code",
   "execution_count": null,
   "id": "bb16ece2",
   "metadata": {},
   "outputs": [],
   "source": [
    "years = list(range(1880, 2019))\n",
    "\n",
    "# the three types of errors for male and female\n",
    "# each one should be a list of errors for years of 1880 to 2019\n",
    "\n",
    "# TODO. 2pts\n",
    "\n",
    "type1_errors_male = \n",
    "type1_errors_female = \n",
    "\n",
    "type2_errors_male = \n",
    "type2_errors_female = \n",
    "\n",
    "type3_errors_male = \n",
    "type3_errors_female = \n",
    "\n",
    "\n",
    "# visualize the three types of erros using the variables above.\n",
    "# make three different figures\n",
    "# Refer to Figure 2 of the paper\n",
    "\n",
    "import matplotlib.pyplot as plt\n",
    "# TODO. 3pts"
   ]
  },
  {
   "cell_type": "markdown",
   "id": "7b165959",
   "metadata": {},
   "source": [
    "## Template 9 Analysis"
   ]
  },
  {
   "cell_type": "code",
   "execution_count": null,
   "id": "6d77f763",
   "metadata": {},
   "outputs": [],
   "source": [
    "years = list(range(1880, 2019))\n",
    "\n",
    "# the three types of errors for male and female\n",
    "# each one should be a list of errors for years of 1880 to 2019\n",
    "\n",
    "# TODO. 2pts\n",
    "\n",
    "type1_errors_male = \n",
    "type1_errors_female = \n",
    "\n",
    "type2_errors_male = \n",
    "type2_errors_female = \n",
    "\n",
    "type3_errors_male = \n",
    "type3_errors_female = \n",
    "\n",
    "\n",
    "# visualize the three types of erros using the variables above.\n",
    "# make three different figures\n",
    "# Refer to Figure 2 of the paper\n",
    "\n",
    "import matplotlib.pyplot as plt\n",
    "# TODO. 3pts"
   ]
  },
  {
   "cell_type": "markdown",
   "id": "f31bc8ae",
   "metadata": {},
   "source": [
    "### According to the plots you make, do you observe difference in the ability to recognize male and female names as PERSON entity types? How does the difference change over years? How does the difference change across different templates? Checking some error cases, where do you think the bias might come from? Can you think of any possible ways to mitigate the bias? 10pts.\n",
    "\n",
    "#### <font color=\"red\">Please type your response here.</font>\n",
    "#### ***************"
   ]
  },
  {
   "cell_type": "code",
   "execution_count": null,
   "id": "c1482ca1",
   "metadata": {},
   "outputs": [],
   "source": []
  }
 ],
 "metadata": {
  "kernelspec": {
   "display_name": "Python 3 (ipykernel)",
   "language": "python",
   "name": "python3"
  },
  "language_info": {
   "codemirror_mode": {
    "name": "ipython",
    "version": 3
   },
   "file_extension": ".py",
   "mimetype": "text/x-python",
   "name": "python",
   "nbconvert_exporter": "python",
   "pygments_lexer": "ipython3",
   "version": "3.9.6"
  }
 },
 "nbformat": 4,
 "nbformat_minor": 5
}
